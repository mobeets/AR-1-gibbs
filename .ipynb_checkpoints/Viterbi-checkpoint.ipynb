{
 "metadata": {
  "name": "",
  "signature": "sha256:67fea2aec2ff2652fac6f97958dfdd9d2e4ce0176870cfeca42316319564d60a"
 },
 "nbformat": 3,
 "nbformat_minor": 0,
 "worksheets": [
  {
   "cells": [
    {
     "cell_type": "code",
     "collapsed": false,
     "input": [
      "%matplotlib inline"
     ],
     "language": "python",
     "metadata": {},
     "outputs": [],
     "prompt_number": 1
    },
    {
     "cell_type": "code",
     "collapsed": false,
     "input": [
      "import numpy as np\n",
      "import scipy.stats\n",
      "import matplotlib.pyplot as plt"
     ],
     "language": "python",
     "metadata": {},
     "outputs": [],
     "prompt_number": 53
    },
    {
     "cell_type": "heading",
     "level": 2,
     "metadata": {},
     "source": [
      "Model definition"
     ]
    },
    {
     "cell_type": "code",
     "collapsed": false,
     "input": [
      "# params\n",
      "N = 1000\n",
      "mus = [2.0, 10.0]\n",
      "sqs = [4.0, 9.0]\n",
      "p = 0.8\n",
      "\n",
      "# model\n",
      "S = 1.*(np.random.random(N) > p)\n",
      "sig1 = (1-S)*mus[0]\n",
      "sig2 = S*mus[1]\n",
      "nse1 = (1-S)*np.random.normal(0, np.sqrt(sqs[0]), N)\n",
      "nse2 = S*np.random.normal(0, np.sqrt(sqs[1]), N)\n",
      "sig = sig1 + sig2\n",
      "nse = nse1 + nse2\n",
      "Y = sig + nse"
     ],
     "language": "python",
     "metadata": {},
     "outputs": [],
     "prompt_number": 101
    },
    {
     "cell_type": "code",
     "collapsed": false,
     "input": [
      "plt.plot(sig, '.r', alpha=0.5)\n",
      "plt.plot(Y, '-k', alpha=0.5, lw=2)\n",
      "plt.show()"
     ],
     "language": "python",
     "metadata": {},
     "outputs": [
      {
       "metadata": {},
       "output_type": "display_data",
       "png": "[encoded data removed]",
       "text": [
        "<matplotlib.figure.Figure at 0x10717d990>"
       ]
      }
     ],
     "prompt_number": 102
    },
    {
     "cell_type": "heading",
     "level": 2,
     "metadata": {},
     "source": [
      "Gibbs sampling"
     ]
    },
    {
     "cell_type": "heading",
     "level": 3,
     "metadata": {},
     "source": [
      "Priors"
     ]
    },
    {
     "cell_type": "code",
     "collapsed": false,
     "input": [
      "# p \u2248 Beta(ap, bp)\n",
      "ap0 = 1.0\n",
      "bp0 = 1.0\n",
      "\n",
      "# mu0, mu1 ~ N(m0, v0), N(m1, v1)\n",
      "# sq0, sq1 ~ IG(a0, b0)\n",
      "m0s = [0.0]*2\n",
      "v0s = [100.0]*2\n",
      "a0s = [1.0]*2\n",
      "b0s = [1.0]*2"
     ],
     "language": "python",
     "metadata": {},
     "outputs": [],
     "prompt_number": 161
    },
    {
     "cell_type": "heading",
     "level": 3,
     "metadata": {},
     "source": [
      "Conditionals"
     ]
    },
    {
     "cell_type": "code",
     "collapsed": false,
     "input": [
      "def draw_p(Sc, pc):\n",
      "    \"\"\"\n",
      "    P(pc | Y, Sc, ms, vs) = P(pc | Sc) \u2248 P(Sc | pc)*P(pc)\n",
      "    \"\"\"\n",
      "    ap = ap0 + (1-Sc).sum()\n",
      "    bp = bp0 + Sc.sum()\n",
      "    return scipy.stats.beta(ap, bp).rvs(1)[0]\n",
      "\n",
      "def draw_S(Y, ms, vs, pc):\n",
      "    \"\"\"\n",
      "    P(Sc | Y, ms, vs, pc)\n",
      "    \"\"\"\n",
      "    rv0 = scipy.stats.norm(ms[0], np.sqrt(vs[0]))\n",
      "    rv1 = scipy.stats.norm(ms[1], np.sqrt(vs[1]))\n",
      "    ps0 = pc*np.array([rv0.pdf(y) for y in Y])\n",
      "    ps1 = (1-pc)*np.array([rv1.pdf(y) for y in Y])\n",
      "    ps = (ps0/(ps0 + ps1)).flatten()\n",
      "    assert (ps <= 1.0).all()\n",
      "    return 1.*(np.random.random(len(Y)) > ps)\n",
      "\n",
      "def draw_mu(Y, var, m0, C0, i):\n",
      "    C = 1./((1./C0) + (len(Y)*1.0/var))\n",
      "    m = C*(m0/C0 + Y.sum()/var)\n",
      "#     print i, (m0, m), (C0, C), len(Y), Y.sum()\n",
      "    return scipy.stats.norm(m, np.sqrt(C)).rvs(1)[0]\n",
      "\n",
      "def draw_var(Y, mu, a0, b0):\n",
      "    a = a0 + len(Y)/2.0\n",
      "    b = b0 + ((Y-mu)**2).sum()/2.0\n",
      "    return scipy.stats.invgamma(a/1., loc=0, scale=b/1.).rvs(1)[0]\n",
      "\n",
      "def draw_mv(Y, Sc, ms, vs, pc):\n",
      "    \"\"\"\n",
      "    P(mus, sqs | Y, Sc)\n",
      "    \"\"\"\n",
      "    for j in range(2):\n",
      "        Yj = Y[Sc==j]\n",
      "        mu = draw_mu(Yj, vs[j], m0s[j], v0s[j], j)\n",
      "        var = draw_var(Yj, ms[j], a0s[j], b0s[j])\n",
      "        ms[j] = mu\n",
      "        vs[j] = var\n",
      "    return ms, vs"
     ],
     "language": "python",
     "metadata": {},
     "outputs": [],
     "prompt_number": 162
    },
    {
     "cell_type": "code",
     "collapsed": false,
     "input": [
      "def gibbs(Y, niters=1000):\n",
      "    N = len(Y)\n",
      "    ph = np.zeros(niters+1)\n",
      "    Sh = np.zeros([niters+1, N])\n",
      "    mh = np.zeros([niters+1, 2])\n",
      "    vh = np.ones([niters+1, 2])\n",
      "    \n",
      "    # initial guesses\n",
      "    pc = 0.5\n",
      "    Sc = 1.*np.array(np.random.random(N) > pc)\n",
      "    ms = [np.mean(Y), np.mean(Y)]\n",
      "    vs = [np.var(Y), np.var(Y)]\n",
      "    ph[0] = pc\n",
      "    Sh[0,:] = Sc\n",
      "    mh[0,:] = ms\n",
      "    vh[0,:] = vs\n",
      "\n",
      "    for i in xrange(1, niters+1):\n",
      "        # update\n",
      "        pc = draw_p(Sc, pc)\n",
      "        Sc = draw_S(Y, ms, vs, pc)\n",
      "        ms, vs = draw_mv(Y, Sc, ms, vs, pc)\n",
      "        # save\n",
      "        ph[i] = p\n",
      "        Sh[i,:] = Sc\n",
      "        mh[i,:] = ms\n",
      "        vh[i,:] = vs\n",
      "    return Sh, ph, mh, vh\n"
     ],
     "language": "python",
     "metadata": {},
     "outputs": [],
     "prompt_number": 163
    },
    {
     "cell_type": "code",
     "collapsed": false,
     "input": [
      "Sh, ph, mh, vh = gibbs(Y)"
     ],
     "language": "python",
     "metadata": {},
     "outputs": [],
     "prompt_number": 164
    },
    {
     "cell_type": "heading",
     "level": 2,
     "metadata": {},
     "source": [
      "Posterior sampling distribution"
     ]
    },
    {
     "cell_type": "code",
     "collapsed": false,
     "input": [
      "nbins = 100\n",
      "\n",
      "plt.hist(ph, bins=nbins)\n",
      "plt.show()\n",
      "\n",
      "plt.hist(mh[:,0], bins=nbins)\n",
      "plt.show()\n",
      "\n",
      "plt.hist(mh[:,1], bins=nbins)\n",
      "plt.show()\n",
      "\n",
      "plt.hist(vh[:,0], bins=nbins)\n",
      "plt.show()\n",
      "\n",
      "plt.hist(vh[:,1], bins=nbins)\n",
      "plt.show()"
     ],
     "language": "python",
     "metadata": {},
     "outputs": [
      {
       "metadata": {},
       "output_type": "display_data",
       "png": "[encoded data removed]",
       "text": [
        "<matplotlib.figure.Figure at 0x107578610>"
       ]
      },
      {
       "metadata": {},
       "output_type": "display_data",
       "png": "[encoded data removed]",
       "text": [
        "<matplotlib.figure.Figure at 0x10f996190>"
       ]
      },
      {
       "metadata": {},
       "output_type": "display_data",
       "png": "[encoded data removed]",
       "text": [
        "<matplotlib.figure.Figure at 0x10facc990>"
       ]
      },
      {
       "metadata": {},
       "output_type": "display_data",
       "png": "[encoded data removed]",
       "text": [
        "<matplotlib.figure.Figure at 0x107a854d0>"
       ]
      },
      {
       "metadata": {},
       "output_type": "display_data",
       "png": "[encoded data removed]",
       "text": [
        "<matplotlib.figure.Figure at 0x107579e50>"
       ]
      }
     ],
     "prompt_number": 165
    },
    {
     "cell_type": "code",
     "collapsed": false,
     "input": [],
     "language": "python",
     "metadata": {},
     "outputs": []
    }
   ],
   "metadata": {}
  }
 ]
}