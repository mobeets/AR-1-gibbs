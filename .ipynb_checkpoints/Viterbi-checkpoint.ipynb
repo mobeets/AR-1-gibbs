{
 "metadata": {
  "name": "",
  "signature": "sha256:bb5febe734d509457f74ce33545acf170ee1ec7fa59409f1b4a0ef668354e03b"
 },
 "nbformat": 3,
 "nbformat_minor": 0,
 "worksheets": [
  {
   "cells": [
    {
     "cell_type": "code",
     "collapsed": false,
     "input": [
      "%matplotlib inline"
     ],
     "language": "python",
     "metadata": {},
     "outputs": [],
     "prompt_number": 1
    },
    {
     "cell_type": "code",
     "collapsed": false,
     "input": [
      "import numpy as np\n",
      "import scipy.stats\n",
      "import matplotlib.pyplot as plt"
     ],
     "language": "python",
     "metadata": {},
     "outputs": [],
     "prompt_number": 47
    },
    {
     "cell_type": "heading",
     "level": 2,
     "metadata": {},
     "source": [
      "Model definition"
     ]
    },
    {
     "cell_type": "code",
     "collapsed": false,
     "input": [
      "# params\n",
      "N = 100\n",
      "mus = [2.0, 10.0]\n",
      "sqs = [1.0, 3.0]\n",
      "p = 0.8\n",
      "\n",
      "# model\n",
      "S = 1.*(np.random.random(N) > p)\n",
      "sig1 = S*mus[0]\n",
      "sig2 = (1-S)*mus[1]\n",
      "nse1 = S*np.random.normal(0, sqs[0], N)\n",
      "nse2 = (1-S)*np.random.normal(0, sqs[1], N)\n",
      "sig = sig1 + sig2\n",
      "nse = nse1 + nse2\n",
      "Y = sig + nse"
     ],
     "language": "python",
     "metadata": {},
     "outputs": [],
     "prompt_number": 171
    },
    {
     "cell_type": "code",
     "collapsed": false,
     "input": [
      "plt.plot(sig, '.r', alpha=0.5)\n",
      "plt.plot(Y, '-k', alpha=0.5, lw=2)\n",
      "plt.show()"
     ],
     "language": "python",
     "metadata": {},
     "outputs": [
      {
       "metadata": {},
       "output_type": "display_data",
       "png": "[encoded data removed]",
       "text": [
        "<matplotlib.figure.Figure at 0x1082f1b50>"
       ]
      }
     ],
     "prompt_number": 172
    },
    {
     "cell_type": "heading",
     "level": 2,
     "metadata": {},
     "source": [
      "Gibbs sampling"
     ]
    },
    {
     "cell_type": "heading",
     "level": 3,
     "metadata": {},
     "source": [
      "Priors"
     ]
    },
    {
     "cell_type": "code",
     "collapsed": false,
     "input": [
      "# p \u2248 Beta(ap, bp)\n",
      "p_prior = lambda p, ap=1.0, bp=1.0: (p**(ap-1))*((1-p)**(bp-1))\n",
      "\n",
      "# mu0, mu1 ~ N(m0, v0), N(m1, v1)\n",
      "# sq0, sq1 ~ IG(a0/2, b0/2)\n",
      "m0s = [np.mean(Y)]*2\n",
      "v0s = [np.var(Y)]*2\n",
      "a0s = [1.0]*2\n",
      "b0s = [1.0]*2"
     ],
     "language": "python",
     "metadata": {},
     "outputs": [],
     "prompt_number": 173
    },
    {
     "cell_type": "heading",
     "level": 3,
     "metadata": {},
     "source": [
      "Conditionals"
     ]
    },
    {
     "cell_type": "code",
     "collapsed": false,
     "input": [
      "p_likeli = lambda pc, Sc: (pc**np.sum(Sc))*((1-pc)**len(Sc) - np.sum(Sc))\n",
      "def draw_p(Sc, pc):\n",
      "    \"\"\"\n",
      "    P(pc | Y, Sc, ms, vs) = P(pc | Sc) \u2248 P(Sc | pc)*P(pc)\n",
      "    \"\"\"\n",
      "    return p_likeli(pc, Sc)*p_prior(pc)\n",
      "\n",
      "def draw_S(Y, ms, vs, pc):\n",
      "    \"\"\"\n",
      "    P(Sc | Y, ms, vs, pc)\n",
      "    \"\"\"\n",
      "    rv0 = scipy.stats.norm(ms[0], np.sqrt(vs[0]))\n",
      "    rv1 = scipy.stats.norm(ms[1], np.sqrt(vs[1]))\n",
      "    ps0 = p*np.array([rv0.pdf(y) for y in Y])\n",
      "    ps1 = (1-p)*np.array([rv1.pdf(y) for y in Y])\n",
      "    ps = (ps0/(ps0 + ps1)).flatten()\n",
      "    assert (ps <= 1.0).all(), ps.max()\n",
      "    return 1.*(np.random.random(len(Y)) > ps)\n",
      "\n",
      "def draw_mu(Y, var, m0, C0):\n",
      "    C = 1./((1./C0) + (len(Y)*1.0/var))\n",
      "    m = C*(C0*m0 + Y.sum()/var)\n",
      "    return scipy.stats.norm(m, C).rvs(1)\n",
      "\n",
      "def draw_var(Y, mu, a0, b0):\n",
      "    a = a0 + len(Y)/2.0\n",
      "    b = b0 + ((Y-mu)**2).sum()/2.0\n",
      "    return scipy.stats.invgamma(a/2., loc=0, scale=b/2.).rvs(1)\n",
      "\n",
      "def draw_mv(Y, Sc, ms, vs, pc):\n",
      "    \"\"\"\n",
      "    P(mus, sqs | Y, Sc)\n",
      "    \"\"\"\n",
      "    for j in range(2):\n",
      "        Yj = Y[Sc==j]\n",
      "        mu = draw_mu(Yj, vs[j], m0s[j], v0s[j])\n",
      "        var = draw_var(Yj, ms[j], a0s[j], b0s[j])\n",
      "        ms[j] = mu\n",
      "        vs[j] = var\n",
      "    return ms, vs"
     ],
     "language": "python",
     "metadata": {},
     "outputs": [],
     "prompt_number": 183
    },
    {
     "cell_type": "code",
     "collapsed": false,
     "input": [
      "def gibbs(Y, niters=100):\n",
      "    N = len(Y)\n",
      "    ph = np.zeros(niters+1)\n",
      "    Sh = np.zeros([niters+1, N])\n",
      "    mh = np.zeros([niters+1, 2])\n",
      "    vh = np.ones([niters+1, 2])\n",
      "    \n",
      "    # initial guesses\n",
      "    pc = 0.5\n",
      "    Sc = 1.*np.array(np.random.random(N) > pc)\n",
      "    ms = [np.mean(Y), np.mean(Y)]\n",
      "    vs = [np.var(Y), np.var(Y)]\n",
      "    ph[0] = pc\n",
      "    Sh[0,:] = Sc\n",
      "    mh[0,:] = ms\n",
      "    vh[0,:] = vs\n",
      "\n",
      "    for i in xrange(1, niters+1):\n",
      "        # update\n",
      "        pc = draw_p(Sc, pc)        \n",
      "        Sc = draw_S(Y, ms, vs, pc)\n",
      "        ms, vs = draw_mv(Y, Sc, ms, vs, pc)\n",
      "        # save\n",
      "        ph[i] = p\n",
      "        Sh[i,:] = Sc\n",
      "        mh[i,:] = ms\n",
      "        vh[i,:] = vs\n",
      "    return Sh, ph, mh, vh\n"
     ],
     "language": "python",
     "metadata": {},
     "outputs": [],
     "prompt_number": 184
    },
    {
     "cell_type": "code",
     "collapsed": false,
     "input": [
      "Sh, ph, mh, vh = gibbs(Y)"
     ],
     "language": "python",
     "metadata": {},
     "outputs": [],
     "prompt_number": 185
    },
    {
     "cell_type": "heading",
     "level": 2,
     "metadata": {},
     "source": [
      "Posterior sampling distribution"
     ]
    },
    {
     "cell_type": "code",
     "collapsed": false,
     "input": [
      "nbins = 100\n",
      "plt.hist(ph, bins=nbins)\n",
      "plt.show()\n",
      "\n",
      "plt.hist(mh[:,0], bins=nbins)\n",
      "plt.show()\n",
      "\n",
      "plt.hist(mh[:,1], bins=nbins)\n",
      "plt.show()"
     ],
     "language": "python",
     "metadata": {},
     "outputs": [
      {
       "metadata": {},
       "output_type": "display_data",
       "png": "[encoded data removed]",
       "text": [
        "<matplotlib.figure.Figure at 0x108e4d690>"
       ]
      },
      {
       "metadata": {},
       "output_type": "display_data",
       "png": "[encoded data removed]",
       "text": [
        "<matplotlib.figure.Figure at 0x108460710>"
       ]
      },
      {
       "metadata": {},
       "output_type": "display_data",
       "png": "[encoded data removed]",
       "text": [
        "<matplotlib.figure.Figure at 0x108493c90>"
       ]
      }
     ],
     "prompt_number": 189
    },
    {
     "cell_type": "code",
     "collapsed": false,
     "input": [],
     "language": "python",
     "metadata": {},
     "outputs": []
    }
   ],
   "metadata": {}
  }
 ]
}